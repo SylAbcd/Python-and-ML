{
 "cells": [
  {
   "cell_type": "code",
   "execution_count": 21,
   "id": "d98e52a4",
   "metadata": {},
   "outputs": [
    {
     "name": "stdout",
     "output_type": "stream",
     "text": [
      "0   []\n",
      "1   [7]\n",
      "2   [6]\n",
      "3   [6, 7]\n",
      "4   [5]\n",
      "5   [5, 7]\n",
      "6   [5, 6]\n",
      "7   [5, 6, 7]\n",
      "8   [4]\n",
      "9   [4, 7]\n",
      "10   [4, 6]\n",
      "11   [4, 6, 7]\n",
      "12   [4, 5]\n",
      "13   [4, 5, 7]\n",
      "14   [4, 5, 6]\n",
      "15   [4, 5, 6, 7]\n"
     ]
    }
   ],
   "source": [
    "def uzupZer(licz,dl):\n",
    "    dop=str(''.join([\"0\" for i in range(dl-len(licz))]))\n",
    "    return str(dop)+licz\n",
    "\n",
    "def wypiszPodzb(lista,bin):\n",
    "    podzb=[]\n",
    "    for i in range (len(bin)):\n",
    "        if bin[i]=='1':\n",
    "            podzb.append(lista[i])\n",
    "    return podzb\n",
    "\n",
    "def podzbiory(lista):\n",
    "    n=len(lista)\n",
    "    for i in range(2**n):\n",
    "        licz=str(bin(i)[2:])\n",
    "        podzbBin=uzupZer(licz,n)\n",
    "        print(i,\" \",wypiszPodzb(lista,podzbBin))\n",
    "        \n",
    "        \n",
    "podzbiory([4,5,6,7])"
   ]
  },
  {
   "cell_type": "code",
   "execution_count": null,
   "id": "cf4bcf4f",
   "metadata": {},
   "outputs": [],
   "source": []
  }
 ],
 "metadata": {
  "kernelspec": {
   "display_name": "Python 3",
   "language": "python",
   "name": "python3"
  },
  "language_info": {
   "codemirror_mode": {
    "name": "ipython",
    "version": 3
   },
   "file_extension": ".py",
   "mimetype": "text/x-python",
   "name": "python",
   "nbconvert_exporter": "python",
   "pygments_lexer": "ipython3",
   "version": "3.7.10"
  }
 },
 "nbformat": 4,
 "nbformat_minor": 5
}
