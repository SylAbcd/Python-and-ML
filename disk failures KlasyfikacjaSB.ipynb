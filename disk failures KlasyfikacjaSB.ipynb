{
 "cells": [
  {
   "cell_type": "code",
   "execution_count": 1,
   "metadata": {},
   "outputs": [],
   "source": [
    "import pandas as pd\n",
    "import matplotlib.pyplot as plt\n",
    "from sklearn import * \n",
    "import numpy as np\n",
    "from sklearn.metrics import confusion_matrix\n",
    "import seaborn as sn #posłuży do wizualizacji macierzy pomyłek"
   ]
  },
  {
   "cell_type": "markdown",
   "metadata": {},
   "source": [
    "zbior danych o awaryjności dysków - plik `data/disk_failures.csv`\n",
    "\n",
    "cel: zbudowanie modelu oceniającego na podstawie metryk S.M.A.R.T., \n",
    "     czy dany dysk ulegnie w najbliższym czasie awarii\n",
    "        \n",
    "S.M.A.R.T.: • liczba cykli start/stop • temperatura dysku • częstotliwość błędów podczas odczytu\n",
    "• liczba realokowanych sektorów • liczba prób uruchomienia osi dysku\n"
   ]
  },
  {
   "cell_type": "code",
   "execution_count": 2,
   "metadata": {},
   "outputs": [],
   "source": [
    "df = pd.read_csv('data/disk_failures.csv', true_values=['Yes.', 'True.'], false_values=['No.','False.'])"
   ]
  },
  {
   "cell_type": "code",
   "execution_count": 6,
   "metadata": {},
   "outputs": [
    {
     "name": "stdout",
     "output_type": "stream",
     "text": [
      "<class 'pandas.core.frame.DataFrame'>\n",
      "RangeIndex: 8202 entries, 0 to 8201\n",
      "Data columns (total 7 columns):\n",
      " #   Column         Non-Null Count  Dtype   \n",
      "---  ------         --------------  -----   \n",
      " 0   CapacityBytes  8202 non-null   float64 \n",
      " 1   SMART_1_Raw    8193 non-null   float64 \n",
      " 2   SMART_2_Raw    8194 non-null   float64 \n",
      " 3   SMART_3_Raw    8194 non-null   float64 \n",
      " 4   SMART_4_Raw    8194 non-null   float64 \n",
      " 5   SMART_5_Raw    8194 non-null   float64 \n",
      " 6   DiskFailure    8202 non-null   category\n",
      "dtypes: category(1), float64(6)\n",
      "memory usage: 392.7 KB\n"
     ]
    }
   ],
   "source": [
    "df.info()"
   ]
  },
  {
   "cell_type": "code",
   "execution_count": 4,
   "metadata": {},
   "outputs": [],
   "source": [
    "to_drop = ['Model', 'SerialNumber', 'Date']\n",
    "df.drop(to_drop, axis=1, inplace=True)"
   ]
  },
  {
   "cell_type": "code",
   "execution_count": 5,
   "metadata": {},
   "outputs": [
    {
     "data": {
      "text/plain": [
       "0       Yes\n",
       "1       Yes\n",
       "2        No\n",
       "3       Yes\n",
       "4       Yes\n",
       "       ... \n",
       "8197     No\n",
       "8198    Yes\n",
       "8199    Yes\n",
       "8200    Yes\n",
       "8201    Yes\n",
       "Name: DiskFailure, Length: 8202, dtype: category\n",
       "Categories (2, object): ['No', 'Yes']"
      ]
     },
     "execution_count": 5,
     "metadata": {},
     "output_type": "execute_result"
    }
   ],
   "source": [
    "df.DiskFailure = df.DiskFailure.astype('category')\n",
    "df.DiskFailure"
   ]
  },
  {
   "cell_type": "code",
   "execution_count": 7,
   "metadata": {},
   "outputs": [
    {
     "data": {
      "text/html": [
       "<div>\n",
       "<style scoped>\n",
       "    .dataframe tbody tr th:only-of-type {\n",
       "        vertical-align: middle;\n",
       "    }\n",
       "\n",
       "    .dataframe tbody tr th {\n",
       "        vertical-align: top;\n",
       "    }\n",
       "\n",
       "    .dataframe thead th {\n",
       "        text-align: right;\n",
       "    }\n",
       "</style>\n",
       "<table border=\"1\" class=\"dataframe\">\n",
       "  <thead>\n",
       "    <tr style=\"text-align: right;\">\n",
       "      <th></th>\n",
       "      <th>CapacityBytes</th>\n",
       "      <th>SMART_1_Raw</th>\n",
       "      <th>SMART_2_Raw</th>\n",
       "      <th>SMART_3_Raw</th>\n",
       "      <th>SMART_4_Raw</th>\n",
       "      <th>SMART_5_Raw</th>\n",
       "      <th>DiskFailure</th>\n",
       "    </tr>\n",
       "  </thead>\n",
       "  <tbody>\n",
       "    <tr>\n",
       "      <th>0</th>\n",
       "      <td>2.000000e+12</td>\n",
       "      <td>0.0</td>\n",
       "      <td>1.0</td>\n",
       "      <td>39063.0</td>\n",
       "      <td>31.0</td>\n",
       "      <td>0.0</td>\n",
       "      <td>Yes</td>\n",
       "    </tr>\n",
       "    <tr>\n",
       "      <th>1</th>\n",
       "      <td>2.000000e+12</td>\n",
       "      <td>0.0</td>\n",
       "      <td>1.0</td>\n",
       "      <td>30730.0</td>\n",
       "      <td>32.0</td>\n",
       "      <td>0.0</td>\n",
       "      <td>Yes</td>\n",
       "    </tr>\n",
       "    <tr>\n",
       "      <th>2</th>\n",
       "      <td>4.000000e+12</td>\n",
       "      <td>0.0</td>\n",
       "      <td>0.0</td>\n",
       "      <td>1806.0</td>\n",
       "      <td>24.0</td>\n",
       "      <td>0.0</td>\n",
       "      <td>No</td>\n",
       "    </tr>\n",
       "    <tr>\n",
       "      <th>3</th>\n",
       "      <td>1.500000e+12</td>\n",
       "      <td>104152028.0</td>\n",
       "      <td>102.0</td>\n",
       "      <td>36008.0</td>\n",
       "      <td>26.0</td>\n",
       "      <td>0.0</td>\n",
       "      <td>Yes</td>\n",
       "    </tr>\n",
       "    <tr>\n",
       "      <th>4</th>\n",
       "      <td>1.500000e+12</td>\n",
       "      <td>133405108.0</td>\n",
       "      <td>1242.0</td>\n",
       "      <td>37515.0</td>\n",
       "      <td>21.0</td>\n",
       "      <td>0.0</td>\n",
       "      <td>Yes</td>\n",
       "    </tr>\n",
       "    <tr>\n",
       "      <th>...</th>\n",
       "      <td>...</td>\n",
       "      <td>...</td>\n",
       "      <td>...</td>\n",
       "      <td>...</td>\n",
       "      <td>...</td>\n",
       "      <td>...</td>\n",
       "      <td>...</td>\n",
       "    </tr>\n",
       "    <tr>\n",
       "      <th>8197</th>\n",
       "      <td>3.000000e+12</td>\n",
       "      <td>0.0</td>\n",
       "      <td>0.0</td>\n",
       "      <td>26353.0</td>\n",
       "      <td>27.0</td>\n",
       "      <td>0.0</td>\n",
       "      <td>No</td>\n",
       "    </tr>\n",
       "    <tr>\n",
       "      <th>8198</th>\n",
       "      <td>4.000000e+12</td>\n",
       "      <td>0.0</td>\n",
       "      <td>0.0</td>\n",
       "      <td>10489.0</td>\n",
       "      <td>23.0</td>\n",
       "      <td>0.0</td>\n",
       "      <td>Yes</td>\n",
       "    </tr>\n",
       "    <tr>\n",
       "      <th>8199</th>\n",
       "      <td>3.000000e+12</td>\n",
       "      <td>223688808.0</td>\n",
       "      <td>0.0</td>\n",
       "      <td>17749.0</td>\n",
       "      <td>32.0</td>\n",
       "      <td>24.0</td>\n",
       "      <td>Yes</td>\n",
       "    </tr>\n",
       "    <tr>\n",
       "      <th>8200</th>\n",
       "      <td>4.000000e+12</td>\n",
       "      <td>152129792.0</td>\n",
       "      <td>0.0</td>\n",
       "      <td>16836.0</td>\n",
       "      <td>25.0</td>\n",
       "      <td>64.0</td>\n",
       "      <td>Yes</td>\n",
       "    </tr>\n",
       "    <tr>\n",
       "      <th>8201</th>\n",
       "      <td>2.000000e+12</td>\n",
       "      <td>65281381.0</td>\n",
       "      <td>0.0</td>\n",
       "      <td>18581.0</td>\n",
       "      <td>21.0</td>\n",
       "      <td>0.0</td>\n",
       "      <td>Yes</td>\n",
       "    </tr>\n",
       "  </tbody>\n",
       "</table>\n",
       "<p>8202 rows × 7 columns</p>\n",
       "</div>"
      ],
      "text/plain": [
       "      CapacityBytes  SMART_1_Raw  SMART_2_Raw  SMART_3_Raw  SMART_4_Raw  \\\n",
       "0      2.000000e+12          0.0          1.0      39063.0         31.0   \n",
       "1      2.000000e+12          0.0          1.0      30730.0         32.0   \n",
       "2      4.000000e+12          0.0          0.0       1806.0         24.0   \n",
       "3      1.500000e+12  104152028.0        102.0      36008.0         26.0   \n",
       "4      1.500000e+12  133405108.0       1242.0      37515.0         21.0   \n",
       "...             ...          ...          ...          ...          ...   \n",
       "8197   3.000000e+12          0.0          0.0      26353.0         27.0   \n",
       "8198   4.000000e+12          0.0          0.0      10489.0         23.0   \n",
       "8199   3.000000e+12  223688808.0          0.0      17749.0         32.0   \n",
       "8200   4.000000e+12  152129792.0          0.0      16836.0         25.0   \n",
       "8201   2.000000e+12   65281381.0          0.0      18581.0         21.0   \n",
       "\n",
       "      SMART_5_Raw DiskFailure  \n",
       "0             0.0         Yes  \n",
       "1             0.0         Yes  \n",
       "2             0.0          No  \n",
       "3             0.0         Yes  \n",
       "4             0.0         Yes  \n",
       "...           ...         ...  \n",
       "8197          0.0          No  \n",
       "8198          0.0         Yes  \n",
       "8199         24.0         Yes  \n",
       "8200         64.0         Yes  \n",
       "8201          0.0         Yes  \n",
       "\n",
       "[8202 rows x 7 columns]"
      ]
     },
     "execution_count": 7,
     "metadata": {},
     "output_type": "execute_result"
    }
   ],
   "source": [
    "df"
   ]
  },
  {
   "cell_type": "code",
   "execution_count": 14,
   "metadata": {},
   "outputs": [],
   "source": [
    "#nrows = df.shape[0]\n",
    "#ncols = df.shape[1]"
   ]
  },
  {
   "cell_type": "code",
   "execution_count": 8,
   "metadata": {},
   "outputs": [
    {
     "data": {
      "image/png": "[encoded data removed]",
      "text/plain": [
       "<Figure size 576x720 with 6 Axes>"
      ]
     },
     "metadata": {
      "needs_background": "light"
     },
     "output_type": "display_data"
    }
   ],
   "source": [
    "df.hist(figsize=(8, 10), bins=100, xlabelsize=8, ylabelsize=8);"
   ]
  },
  {
   "cell_type": "code",
   "execution_count": 11,
   "metadata": {},
   "outputs": [
    {
     "data": {
      "text/plain": [
       " 3.000000e+12    3173\n",
       " 4.000000e+12    2798\n",
       " 1.500000e+12     961\n",
       " 2.000000e+12     823\n",
       " 1.000000e+12     135\n",
       " 6.000000e+12      94\n",
       " 5.000000e+11      68\n",
       " 1.600000e+11      56\n",
       " 3.200000e+11      29\n",
       " 2.500000e+11      29\n",
       " 8.002636e+10      24\n",
       " 8.000000e+12       5\n",
       " 6.000000e+17       2\n",
       " 5.000000e+12       2\n",
       " 1.070000e+17       1\n",
       " 1.190000e+12       1\n",
       "-9.120000e+18       1\n",
       "Name: CapacityBytes, dtype: int64"
      ]
     },
     "execution_count": 11,
     "metadata": {},
     "output_type": "execute_result"
    }
   ],
   "source": [
    "df['CapacityBytes'].value_counts()"
   ]
  },
  {
   "cell_type": "code",
   "execution_count": 12,
   "metadata": {},
   "outputs": [
    {
     "data": {
      "text/plain": [
       "0.0            2583\n",
       "1.0              69\n",
       "65536.0          49\n",
       "2.0              30\n",
       "65537.0          19\n",
       "               ... \n",
       "185108772.0       1\n",
       "42833696.0        1\n",
       "17202256.0        1\n",
       "137541402.0       1\n",
       "208030360.0       1\n",
       "Name: SMART_1_Raw, Length: 5324, dtype: int64"
      ]
     },
     "execution_count": 12,
     "metadata": {},
     "output_type": "execute_result"
    }
   ],
   "source": [
    "df[df.columns[1]].value_counts()"
   ]
  },
  {
   "cell_type": "code",
   "execution_count": 13,
   "metadata": {},
   "outputs": [
    {
     "data": {
      "text/plain": [
       "0.0       6445\n",
       "8.0        244\n",
       "1.0        129\n",
       "16.0       127\n",
       "24.0        92\n",
       "          ... \n",
       "126.0        1\n",
       "6293.0       1\n",
       "4264.0       1\n",
       "1208.0       1\n",
       "188.0        1\n",
       "Name: SMART_5_Raw, Length: 297, dtype: int64"
      ]
     },
     "execution_count": 13,
     "metadata": {},
     "output_type": "execute_result"
    }
   ],
   "source": [
    "df[df.columns[5]].value_counts()"
   ]
  },
  {
   "cell_type": "code",
   "execution_count": 14,
   "metadata": {
    "scrolled": true
   },
   "outputs": [
    {
     "data": {
      "text/html": [
       "<div>\n",
       "<style scoped>\n",
       "    .dataframe tbody tr th:only-of-type {\n",
       "        vertical-align: middle;\n",
       "    }\n",
       "\n",
       "    .dataframe tbody tr th {\n",
       "        vertical-align: top;\n",
       "    }\n",
       "\n",
       "    .dataframe thead th {\n",
       "        text-align: right;\n",
       "    }\n",
       "</style>\n",
       "<table border=\"1\" class=\"dataframe\">\n",
       "  <thead>\n",
       "    <tr style=\"text-align: right;\">\n",
       "      <th></th>\n",
       "      <th>CapacityBytes</th>\n",
       "      <th>SMART_1_Raw</th>\n",
       "      <th>SMART_2_Raw</th>\n",
       "      <th>SMART_3_Raw</th>\n",
       "      <th>SMART_4_Raw</th>\n",
       "      <th>SMART_5_Raw</th>\n",
       "    </tr>\n",
       "  </thead>\n",
       "  <tbody>\n",
       "    <tr>\n",
       "      <th>count</th>\n",
       "      <td>8.202000e+03</td>\n",
       "      <td>8.193000e+03</td>\n",
       "      <td>8194.000000</td>\n",
       "      <td>8194.000000</td>\n",
       "      <td>8194.000000</td>\n",
       "      <td>8194.000000</td>\n",
       "    </tr>\n",
       "    <tr>\n",
       "      <th>mean</th>\n",
       "      <td>-9.495720e+14</td>\n",
       "      <td>8.886273e+08</td>\n",
       "      <td>1627.711130</td>\n",
       "      <td>16702.866244</td>\n",
       "      <td>25.993654</td>\n",
       "      <td>212.670735</td>\n",
       "    </tr>\n",
       "    <tr>\n",
       "      <th>std</th>\n",
       "      <td>1.011448e+17</td>\n",
       "      <td>7.324664e+10</td>\n",
       "      <td>7805.379814</td>\n",
       "      <td>12182.257648</td>\n",
       "      <td>4.291065</td>\n",
       "      <td>3040.166391</td>\n",
       "    </tr>\n",
       "    <tr>\n",
       "      <th>min</th>\n",
       "      <td>-9.120000e+18</td>\n",
       "      <td>0.000000e+00</td>\n",
       "      <td>0.000000</td>\n",
       "      <td>6.000000</td>\n",
       "      <td>10.000000</td>\n",
       "      <td>0.000000</td>\n",
       "    </tr>\n",
       "    <tr>\n",
       "      <th>25%</th>\n",
       "      <td>2.000000e+12</td>\n",
       "      <td>0.000000e+00</td>\n",
       "      <td>0.000000</td>\n",
       "      <td>6874.250000</td>\n",
       "      <td>23.000000</td>\n",
       "      <td>0.000000</td>\n",
       "    </tr>\n",
       "    <tr>\n",
       "      <th>50%</th>\n",
       "      <td>3.000000e+12</td>\n",
       "      <td>4.297987e+07</td>\n",
       "      <td>0.000000</td>\n",
       "      <td>15349.500000</td>\n",
       "      <td>26.000000</td>\n",
       "      <td>0.000000</td>\n",
       "    </tr>\n",
       "    <tr>\n",
       "      <th>75%</th>\n",
       "      <td>4.000000e+12</td>\n",
       "      <td>1.444650e+08</td>\n",
       "      <td>0.000000</td>\n",
       "      <td>22414.750000</td>\n",
       "      <td>29.000000</td>\n",
       "      <td>0.000000</td>\n",
       "    </tr>\n",
       "    <tr>\n",
       "      <th>max</th>\n",
       "      <td>6.000000e+17</td>\n",
       "      <td>6.630000e+12</td>\n",
       "      <td>65224.000000</td>\n",
       "      <td>141415.000000</td>\n",
       "      <td>46.000000</td>\n",
       "      <td>65534.000000</td>\n",
       "    </tr>\n",
       "  </tbody>\n",
       "</table>\n",
       "</div>"
      ],
      "text/plain": [
       "       CapacityBytes   SMART_1_Raw   SMART_2_Raw    SMART_3_Raw  SMART_4_Raw  \\\n",
       "count   8.202000e+03  8.193000e+03   8194.000000    8194.000000  8194.000000   \n",
       "mean   -9.495720e+14  8.886273e+08   1627.711130   16702.866244    25.993654   \n",
       "std     1.011448e+17  7.324664e+10   7805.379814   12182.257648     4.291065   \n",
       "min    -9.120000e+18  0.000000e+00      0.000000       6.000000    10.000000   \n",
       "25%     2.000000e+12  0.000000e+00      0.000000    6874.250000    23.000000   \n",
       "50%     3.000000e+12  4.297987e+07      0.000000   15349.500000    26.000000   \n",
       "75%     4.000000e+12  1.444650e+08      0.000000   22414.750000    29.000000   \n",
       "max     6.000000e+17  6.630000e+12  65224.000000  141415.000000    46.000000   \n",
       "\n",
       "        SMART_5_Raw  \n",
       "count   8194.000000  \n",
       "mean     212.670735  \n",
       "std     3040.166391  \n",
       "min        0.000000  \n",
       "25%        0.000000  \n",
       "50%        0.000000  \n",
       "75%        0.000000  \n",
       "max    65534.000000  "
      ]
     },
     "execution_count": 14,
     "metadata": {},
     "output_type": "execute_result"
    }
   ],
   "source": [
    "df.describe()"
   ]
  },
  {
   "cell_type": "code",
   "execution_count": 15,
   "metadata": {},
   "outputs": [
    {
     "name": "stdout",
     "output_type": "stream",
     "text": [
      "<class 'pandas.core.frame.DataFrame'>\n",
      "RangeIndex: 8202 entries, 0 to 8201\n",
      "Data columns (total 7 columns):\n",
      " #   Column         Non-Null Count  Dtype   \n",
      "---  ------         --------------  -----   \n",
      " 0   CapacityBytes  8202 non-null   float64 \n",
      " 1   SMART_1_Raw    8193 non-null   float64 \n",
      " 2   SMART_2_Raw    8194 non-null   float64 \n",
      " 3   SMART_3_Raw    8194 non-null   float64 \n",
      " 4   SMART_4_Raw    8194 non-null   float64 \n",
      " 5   SMART_5_Raw    8194 non-null   float64 \n",
      " 6   DiskFailure    8202 non-null   category\n",
      "dtypes: category(1), float64(6)\n",
      "memory usage: 392.7 KB\n"
     ]
    }
   ],
   "source": [
    "df.info()"
   ]
  },
  {
   "cell_type": "code",
   "execution_count": 16,
   "metadata": {},
   "outputs": [],
   "source": [
    "df=df.dropna()"
   ]
  },
  {
   "cell_type": "code",
   "execution_count": 17,
   "metadata": {},
   "outputs": [
    {
     "name": "stdout",
     "output_type": "stream",
     "text": [
      "<class 'pandas.core.frame.DataFrame'>\n",
      "Int64Index: 8193 entries, 0 to 8201\n",
      "Data columns (total 7 columns):\n",
      " #   Column         Non-Null Count  Dtype   \n",
      "---  ------         --------------  -----   \n",
      " 0   CapacityBytes  8193 non-null   float64 \n",
      " 1   SMART_1_Raw    8193 non-null   float64 \n",
      " 2   SMART_2_Raw    8193 non-null   float64 \n",
      " 3   SMART_3_Raw    8193 non-null   float64 \n",
      " 4   SMART_4_Raw    8193 non-null   float64 \n",
      " 5   SMART_5_Raw    8193 non-null   float64 \n",
      " 6   DiskFailure    8193 non-null   category\n",
      "dtypes: category(1), float64(6)\n",
      "memory usage: 456.2 KB\n"
     ]
    }
   ],
   "source": [
    "df.info()"
   ]
  },
  {
   "cell_type": "code",
   "execution_count": 22,
   "metadata": {},
   "outputs": [
    {
     "name": "stdout",
     "output_type": "stream",
     "text": [
      "<class 'pandas.core.frame.DataFrame'>\n",
      "Int64Index: 8193 entries, 0 to 8201\n",
      "Data columns (total 6 columns):\n",
      " #   Column         Non-Null Count  Dtype  \n",
      "---  ------         --------------  -----  \n",
      " 0   CapacityBytes  8193 non-null   float64\n",
      " 1   SMART_1_Raw    8193 non-null   float64\n",
      " 2   SMART_2_Raw    8193 non-null   float64\n",
      " 3   SMART_3_Raw    8193 non-null   float64\n",
      " 4   SMART_4_Raw    8193 non-null   float64\n",
      " 5   SMART_5_Raw    8193 non-null   float64\n",
      "dtypes: float64(6)\n",
      "memory usage: 448.1 KB\n"
     ]
    }
   ],
   "source": [
    "X=df[df.columns[:6]] \n",
    "X.info()"
   ]
  },
  {
   "cell_type": "code",
   "execution_count": 23,
   "metadata": {},
   "outputs": [
    {
     "data": {
      "text/html": [
       "<div>\n",
       "<style scoped>\n",
       "    .dataframe tbody tr th:only-of-type {\n",
       "        vertical-align: middle;\n",
       "    }\n",
       "\n",
       "    .dataframe tbody tr th {\n",
       "        vertical-align: top;\n",
       "    }\n",
       "\n",
       "    .dataframe thead th {\n",
       "        text-align: right;\n",
       "    }\n",
       "</style>\n",
       "<table border=\"1\" class=\"dataframe\">\n",
       "  <thead>\n",
       "    <tr style=\"text-align: right;\">\n",
       "      <th></th>\n",
       "      <th>CapacityBytes</th>\n",
       "      <th>SMART_1_Raw</th>\n",
       "      <th>SMART_2_Raw</th>\n",
       "      <th>SMART_3_Raw</th>\n",
       "      <th>SMART_4_Raw</th>\n",
       "      <th>SMART_5_Raw</th>\n",
       "    </tr>\n",
       "  </thead>\n",
       "  <tbody>\n",
       "    <tr>\n",
       "      <th>0</th>\n",
       "      <td>2.000000e+12</td>\n",
       "      <td>0.0</td>\n",
       "      <td>1.0</td>\n",
       "      <td>39063.0</td>\n",
       "      <td>31.0</td>\n",
       "      <td>0.0</td>\n",
       "    </tr>\n",
       "    <tr>\n",
       "      <th>1</th>\n",
       "      <td>2.000000e+12</td>\n",
       "      <td>0.0</td>\n",
       "      <td>1.0</td>\n",
       "      <td>30730.0</td>\n",
       "      <td>32.0</td>\n",
       "      <td>0.0</td>\n",
       "    </tr>\n",
       "    <tr>\n",
       "      <th>2</th>\n",
       "      <td>4.000000e+12</td>\n",
       "      <td>0.0</td>\n",
       "      <td>0.0</td>\n",
       "      <td>1806.0</td>\n",
       "      <td>24.0</td>\n",
       "      <td>0.0</td>\n",
       "    </tr>\n",
       "    <tr>\n",
       "      <th>3</th>\n",
       "      <td>1.500000e+12</td>\n",
       "      <td>104152028.0</td>\n",
       "      <td>102.0</td>\n",
       "      <td>36008.0</td>\n",
       "      <td>26.0</td>\n",
       "      <td>0.0</td>\n",
       "    </tr>\n",
       "    <tr>\n",
       "      <th>4</th>\n",
       "      <td>1.500000e+12</td>\n",
       "      <td>133405108.0</td>\n",
       "      <td>1242.0</td>\n",
       "      <td>37515.0</td>\n",
       "      <td>21.0</td>\n",
       "      <td>0.0</td>\n",
       "    </tr>\n",
       "    <tr>\n",
       "      <th>...</th>\n",
       "      <td>...</td>\n",
       "      <td>...</td>\n",
       "      <td>...</td>\n",
       "      <td>...</td>\n",
       "      <td>...</td>\n",
       "      <td>...</td>\n",
       "    </tr>\n",
       "    <tr>\n",
       "      <th>8197</th>\n",
       "      <td>3.000000e+12</td>\n",
       "      <td>0.0</td>\n",
       "      <td>0.0</td>\n",
       "      <td>26353.0</td>\n",
       "      <td>27.0</td>\n",
       "      <td>0.0</td>\n",
       "    </tr>\n",
       "    <tr>\n",
       "      <th>8198</th>\n",
       "      <td>4.000000e+12</td>\n",
       "      <td>0.0</td>\n",
       "      <td>0.0</td>\n",
       "      <td>10489.0</td>\n",
       "      <td>23.0</td>\n",
       "      <td>0.0</td>\n",
       "    </tr>\n",
       "    <tr>\n",
       "      <th>8199</th>\n",
       "      <td>3.000000e+12</td>\n",
       "      <td>223688808.0</td>\n",
       "      <td>0.0</td>\n",
       "      <td>17749.0</td>\n",
       "      <td>32.0</td>\n",
       "      <td>24.0</td>\n",
       "    </tr>\n",
       "    <tr>\n",
       "      <th>8200</th>\n",
       "      <td>4.000000e+12</td>\n",
       "      <td>152129792.0</td>\n",
       "      <td>0.0</td>\n",
       "      <td>16836.0</td>\n",
       "      <td>25.0</td>\n",
       "      <td>64.0</td>\n",
       "    </tr>\n",
       "    <tr>\n",
       "      <th>8201</th>\n",
       "      <td>2.000000e+12</td>\n",
       "      <td>65281381.0</td>\n",
       "      <td>0.0</td>\n",
       "      <td>18581.0</td>\n",
       "      <td>21.0</td>\n",
       "      <td>0.0</td>\n",
       "    </tr>\n",
       "  </tbody>\n",
       "</table>\n",
       "<p>8193 rows × 6 columns</p>\n",
       "</div>"
      ],
      "text/plain": [
       "      CapacityBytes  SMART_1_Raw  SMART_2_Raw  SMART_3_Raw  SMART_4_Raw  \\\n",
       "0      2.000000e+12          0.0          1.0      39063.0         31.0   \n",
       "1      2.000000e+12          0.0          1.0      30730.0         32.0   \n",
       "2      4.000000e+12          0.0          0.0       1806.0         24.0   \n",
       "3      1.500000e+12  104152028.0        102.0      36008.0         26.0   \n",
       "4      1.500000e+12  133405108.0       1242.0      37515.0         21.0   \n",
       "...             ...          ...          ...          ...          ...   \n",
       "8197   3.000000e+12          0.0          0.0      26353.0         27.0   \n",
       "8198   4.000000e+12          0.0          0.0      10489.0         23.0   \n",
       "8199   3.000000e+12  223688808.0          0.0      17749.0         32.0   \n",
       "8200   4.000000e+12  152129792.0          0.0      16836.0         25.0   \n",
       "8201   2.000000e+12   65281381.0          0.0      18581.0         21.0   \n",
       "\n",
       "      SMART_5_Raw  \n",
       "0             0.0  \n",
       "1             0.0  \n",
       "2             0.0  \n",
       "3             0.0  \n",
       "4             0.0  \n",
       "...           ...  \n",
       "8197          0.0  \n",
       "8198          0.0  \n",
       "8199         24.0  \n",
       "8200         64.0  \n",
       "8201          0.0  \n",
       "\n",
       "[8193 rows x 6 columns]"
      ]
     },
     "execution_count": 23,
     "metadata": {},
     "output_type": "execute_result"
    }
   ],
   "source": [
    "X"
   ]
  },
  {
   "cell_type": "code",
   "execution_count": 27,
   "metadata": {},
   "outputs": [],
   "source": [
    "X1=preprocessing.normalize(X)\n",
    "X=X1"
   ]
  },
  {
   "cell_type": "code",
   "execution_count": 25,
   "metadata": {},
   "outputs": [
    {
     "data": {
      "text/html": [
       "<div>\n",
       "<style scoped>\n",
       "    .dataframe tbody tr th:only-of-type {\n",
       "        vertical-align: middle;\n",
       "    }\n",
       "\n",
       "    .dataframe tbody tr th {\n",
       "        vertical-align: top;\n",
       "    }\n",
       "\n",
       "    .dataframe thead th {\n",
       "        text-align: right;\n",
       "    }\n",
       "</style>\n",
       "<table border=\"1\" class=\"dataframe\">\n",
       "  <thead>\n",
       "    <tr style=\"text-align: right;\">\n",
       "      <th></th>\n",
       "      <th>CapacityBytes</th>\n",
       "      <th>SMART_1_Raw</th>\n",
       "      <th>SMART_2_Raw</th>\n",
       "      <th>SMART_3_Raw</th>\n",
       "      <th>SMART_4_Raw</th>\n",
       "      <th>SMART_5_Raw</th>\n",
       "    </tr>\n",
       "  </thead>\n",
       "  <tbody>\n",
       "    <tr>\n",
       "      <th>0</th>\n",
       "      <td>2.000000e+12</td>\n",
       "      <td>0.0</td>\n",
       "      <td>1.0</td>\n",
       "      <td>39063.0</td>\n",
       "      <td>31.0</td>\n",
       "      <td>0.0</td>\n",
       "    </tr>\n",
       "    <tr>\n",
       "      <th>1</th>\n",
       "      <td>2.000000e+12</td>\n",
       "      <td>0.0</td>\n",
       "      <td>1.0</td>\n",
       "      <td>30730.0</td>\n",
       "      <td>32.0</td>\n",
       "      <td>0.0</td>\n",
       "    </tr>\n",
       "    <tr>\n",
       "      <th>2</th>\n",
       "      <td>4.000000e+12</td>\n",
       "      <td>0.0</td>\n",
       "      <td>0.0</td>\n",
       "      <td>1806.0</td>\n",
       "      <td>24.0</td>\n",
       "      <td>0.0</td>\n",
       "    </tr>\n",
       "    <tr>\n",
       "      <th>3</th>\n",
       "      <td>1.500000e+12</td>\n",
       "      <td>104152028.0</td>\n",
       "      <td>102.0</td>\n",
       "      <td>36008.0</td>\n",
       "      <td>26.0</td>\n",
       "      <td>0.0</td>\n",
       "    </tr>\n",
       "    <tr>\n",
       "      <th>4</th>\n",
       "      <td>1.500000e+12</td>\n",
       "      <td>133405108.0</td>\n",
       "      <td>1242.0</td>\n",
       "      <td>37515.0</td>\n",
       "      <td>21.0</td>\n",
       "      <td>0.0</td>\n",
       "    </tr>\n",
       "    <tr>\n",
       "      <th>...</th>\n",
       "      <td>...</td>\n",
       "      <td>...</td>\n",
       "      <td>...</td>\n",
       "      <td>...</td>\n",
       "      <td>...</td>\n",
       "      <td>...</td>\n",
       "    </tr>\n",
       "    <tr>\n",
       "      <th>8197</th>\n",
       "      <td>3.000000e+12</td>\n",
       "      <td>0.0</td>\n",
       "      <td>0.0</td>\n",
       "      <td>26353.0</td>\n",
       "      <td>27.0</td>\n",
       "      <td>0.0</td>\n",
       "    </tr>\n",
       "    <tr>\n",
       "      <th>8198</th>\n",
       "      <td>4.000000e+12</td>\n",
       "      <td>0.0</td>\n",
       "      <td>0.0</td>\n",
       "      <td>10489.0</td>\n",
       "      <td>23.0</td>\n",
       "      <td>0.0</td>\n",
       "    </tr>\n",
       "    <tr>\n",
       "      <th>8199</th>\n",
       "      <td>3.000000e+12</td>\n",
       "      <td>223688808.0</td>\n",
       "      <td>0.0</td>\n",
       "      <td>17749.0</td>\n",
       "      <td>32.0</td>\n",
       "      <td>24.0</td>\n",
       "    </tr>\n",
       "    <tr>\n",
       "      <th>8200</th>\n",
       "      <td>4.000000e+12</td>\n",
       "      <td>152129792.0</td>\n",
       "      <td>0.0</td>\n",
       "      <td>16836.0</td>\n",
       "      <td>25.0</td>\n",
       "      <td>64.0</td>\n",
       "    </tr>\n",
       "    <tr>\n",
       "      <th>8201</th>\n",
       "      <td>2.000000e+12</td>\n",
       "      <td>65281381.0</td>\n",
       "      <td>0.0</td>\n",
       "      <td>18581.0</td>\n",
       "      <td>21.0</td>\n",
       "      <td>0.0</td>\n",
       "    </tr>\n",
       "  </tbody>\n",
       "</table>\n",
       "<p>8193 rows × 6 columns</p>\n",
       "</div>"
      ],
      "text/plain": [
       "      CapacityBytes  SMART_1_Raw  SMART_2_Raw  SMART_3_Raw  SMART_4_Raw  \\\n",
       "0      2.000000e+12          0.0          1.0      39063.0         31.0   \n",
       "1      2.000000e+12          0.0          1.0      30730.0         32.0   \n",
       "2      4.000000e+12          0.0          0.0       1806.0         24.0   \n",
       "3      1.500000e+12  104152028.0        102.0      36008.0         26.0   \n",
       "4      1.500000e+12  133405108.0       1242.0      37515.0         21.0   \n",
       "...             ...          ...          ...          ...          ...   \n",
       "8197   3.000000e+12          0.0          0.0      26353.0         27.0   \n",
       "8198   4.000000e+12          0.0          0.0      10489.0         23.0   \n",
       "8199   3.000000e+12  223688808.0          0.0      17749.0         32.0   \n",
       "8200   4.000000e+12  152129792.0          0.0      16836.0         25.0   \n",
       "8201   2.000000e+12   65281381.0          0.0      18581.0         21.0   \n",
       "\n",
       "      SMART_5_Raw  \n",
       "0             0.0  \n",
       "1             0.0  \n",
       "2             0.0  \n",
       "3             0.0  \n",
       "4             0.0  \n",
       "...           ...  \n",
       "8197          0.0  \n",
       "8198          0.0  \n",
       "8199         24.0  \n",
       "8200         64.0  \n",
       "8201          0.0  \n",
       "\n",
       "[8193 rows x 6 columns]"
      ]
     },
     "execution_count": 25,
     "metadata": {},
     "output_type": "execute_result"
    }
   ],
   "source": [
    "#X2=pd.DataFrame(X)\n",
    "#X2"
   ]
  },
  {
   "cell_type": "code",
   "execution_count": 26,
   "metadata": {},
   "outputs": [
    {
     "data": {
      "text/plain": [
       "0       Yes\n",
       "1       Yes\n",
       "2        No\n",
       "3       Yes\n",
       "4       Yes\n",
       "       ... \n",
       "8197     No\n",
       "8198    Yes\n",
       "8199    Yes\n",
       "8200    Yes\n",
       "8201    Yes\n",
       "Name: DiskFailure, Length: 8193, dtype: category\n",
       "Categories (2, object): ['No', 'Yes']"
      ]
     },
     "execution_count": 26,
     "metadata": {},
     "output_type": "execute_result"
    }
   ],
   "source": [
    "Y=df['DiskFailure']\n",
    "Y"
   ]
  },
  {
   "cell_type": "code",
   "execution_count": 28,
   "metadata": {},
   "outputs": [
    {
     "data": {
      "text/plain": [
       "count     8193\n",
       "unique       2\n",
       "top         No\n",
       "freq      4102\n",
       "Name: DiskFailure, dtype: object"
      ]
     },
     "execution_count": 28,
     "metadata": {},
     "output_type": "execute_result"
    }
   ],
   "source": [
    "df['DiskFailure'].describe()"
   ]
  },
  {
   "cell_type": "code",
   "execution_count": 29,
   "metadata": {},
   "outputs": [
    {
     "data": {
      "text/plain": [
       "<AxesSubplot:>"
      ]
     },
     "execution_count": 29,
     "metadata": {},
     "output_type": "execute_result"
    },
    {
     "data": {
      "image/png": "[encoded data removed]",
      "text/plain": [
       "<Figure size 432x288 with 1 Axes>"
      ]
     },
     "metadata": {
      "needs_background": "light"
     },
     "output_type": "display_data"
    }
   ],
   "source": [
    "df['DiskFailure'].hist() #rozkład klas w zbiorze"
   ]
  },
  {
   "cell_type": "markdown",
   "metadata": {},
   "source": [
    "Zbiór jest zrównoważony"
   ]
  },
  {
   "cell_type": "code",
   "execution_count": 30,
   "metadata": {},
   "outputs": [],
   "source": [
    "X_train, X_test, y_train, y_test = model_selection.train_test_split(\n",
    "                                    X, Y, test_size=0.20, shuffle=True)"
   ]
  },
  {
   "cell_type": "code",
   "execution_count": 67,
   "metadata": {},
   "outputs": [
    {
     "name": "stdout",
     "output_type": "stream",
     "text": [
      "2   (8193, 6)\n"
     ]
    }
   ],
   "source": [
    "print(np.array(X_train).ndim,\" \",np.shape(X))"
   ]
  },
  {
   "cell_type": "code",
   "execution_count": 68,
   "metadata": {},
   "outputs": [
    {
     "data": {
      "text/plain": [
       "array([[1.00000000e+00, 0.00000000e+00, 0.00000000e+00, 6.02366667e-09,\n",
       "        9.00000000e-12, 0.00000000e+00],\n",
       "       [9.99999998e-01, 6.02176979e-05, 0.00000000e+00, 6.92249999e-10,\n",
       "        4.24999999e-12, 0.00000000e+00],\n",
       "       [9.99999990e-01, 1.41623431e-04, 0.00000000e+00, 2.62959997e-08,\n",
       "        1.26666665e-11, 0.00000000e+00],\n",
       "       ...,\n",
       "       [1.00000000e+00, 1.20016000e-05, 0.00000000e+00, 4.37500000e-09,\n",
       "        4.50000000e-12, 1.00000000e-11],\n",
       "       [1.00000000e+00, 2.80590420e-05, 0.00000000e+00, 1.58150000e-09,\n",
       "        6.50000000e-12, 0.00000000e+00],\n",
       "       [1.00000000e+00, 0.00000000e+00, 0.00000000e+00, 9.19000000e-10,\n",
       "        7.25000000e-12, 0.00000000e+00]])"
      ]
     },
     "execution_count": 68,
     "metadata": {},
     "output_type": "execute_result"
    }
   ],
   "source": [
    "X_test"
   ]
  },
  {
   "cell_type": "code",
   "execution_count": 69,
   "metadata": {},
   "outputs": [
    {
     "data": {
      "text/plain": [
       "array([[1.00000000e+00, 0.00000000e+00, 0.00000000e+00, 2.58225000e-09,\n",
       "        6.75000000e-12, 0.00000000e+00],\n",
       "       [9.99999995e-01, 9.50346969e-05, 1.33333333e-10, 2.67313332e-08,\n",
       "        1.99999999e-11, 1.33333333e-12],\n",
       "       [1.00000000e+00, 0.00000000e+00, 0.00000000e+00, 4.12766667e-09,\n",
       "        9.00000000e-12, 0.00000000e+00],\n",
       "       ...,\n",
       "       [1.00000000e+00, 1.31690700e-05, 2.65200000e-09, 3.25986667e-08,\n",
       "        1.73333333e-11, 0.00000000e+00],\n",
       "       [9.99999987e-01, 1.59033521e-04, 1.88199998e-09, 1.91213331e-08,\n",
       "        1.53333331e-11, 1.33333332e-12],\n",
       "       [1.00000000e+00, 3.08165473e-05, 0.00000000e+00, 2.82106667e-08,\n",
       "        2.33333333e-11, 0.00000000e+00]])"
      ]
     },
     "execution_count": 69,
     "metadata": {},
     "output_type": "execute_result"
    }
   ],
   "source": [
    "X_train"
   ]
  },
  {
   "cell_type": "code",
   "execution_count": 70,
   "metadata": {},
   "outputs": [
    {
     "data": {
      "text/plain": [
       "(6554,)"
      ]
     },
     "execution_count": 70,
     "metadata": {},
     "output_type": "execute_result"
    }
   ],
   "source": [
    "y_train.shape"
   ]
  },
  {
   "cell_type": "code",
   "execution_count": 71,
   "metadata": {},
   "outputs": [
    {
     "data": {
      "text/plain": [
       "(1639,)"
      ]
     },
     "execution_count": 71,
     "metadata": {},
     "output_type": "execute_result"
    }
   ],
   "source": [
    "y_test.shape"
   ]
  },
  {
   "cell_type": "code",
   "execution_count": null,
   "metadata": {},
   "outputs": [],
   "source": []
  },
  {
   "cell_type": "code",
   "execution_count": 72,
   "metadata": {},
   "outputs": [],
   "source": [
    "def modelResults (observed, predicted):\n",
    "    print('Accuracy:', metrics.accuracy_score(observed, predicted))  \n",
    "    print('Precision:', metrics.precision_score(observed, predicted,pos_label='Yes'))\n",
    "    print('Recall:', metrics.recall_score(observed, predicted,pos_label='Yes'))\n",
    "    print('F1-score:', metrics.f1_score(observed,predicted,pos_label='Yes'))\n",
    "def confusionMatrix(observed,predicted):\n",
    "    cm = metrics.confusion_matrix(observed,predicted)/observed.shape[0]\n",
    "    metrics.confusion_matrix(observed,predicted)\n",
    "    df_cm = pd.DataFrame(cm, index=[\"Actual True\", \"Actual False\"], columns = [\"Pred True\", \"Pred False\"])\n",
    "    plt.figure(figsize = (10,7))\n",
    "    sn.heatmap(df_cm, annot=True)"
   ]
  },
  {
   "cell_type": "code",
   "execution_count": null,
   "metadata": {},
   "outputs": [],
   "source": []
  },
  {
   "cell_type": "code",
   "execution_count": 73,
   "metadata": {},
   "outputs": [],
   "source": [
    "logr_clf = linear_model.LogisticRegression(tol=1e-12,max_iter=5000)#tolerancja i max iter"
   ]
  },
  {
   "cell_type": "code",
   "execution_count": 74,
   "metadata": {},
   "outputs": [
    {
     "data": {
      "text/plain": [
       "LogisticRegression(max_iter=5000, tol=1e-12)"
      ]
     },
     "execution_count": 74,
     "metadata": {},
     "output_type": "execute_result"
    }
   ],
   "source": [
    "logr_clf.fit(X_train, y_train)"
   ]
  },
  {
   "cell_type": "code",
   "execution_count": 75,
   "metadata": {},
   "outputs": [
    {
     "name": "stdout",
     "output_type": "stream",
     "text": [
      "Accuracy: 0.4960341671751068\n",
      "Precision: 0.4960341671751068\n",
      "Recall: 1.0\n",
      "F1-score: 0.6631321370309952\n"
     ]
    },
    {
     "data": {
      "image/png": "[encoded data removed]",
      "text/plain": [
       "<Figure size 720x504 with 2 Axes>"
      ]
     },
     "metadata": {
      "needs_background": "light"
     },
     "output_type": "display_data"
    }
   ],
   "source": [
    "y_pred = logr_clf.predict(X_test)\n",
    "modelResults(y_test, y_pred)\n",
    "confusionMatrix(y_test, y_pred)"
   ]
  },
  {
   "cell_type": "code",
   "execution_count": 76,
   "metadata": {},
   "outputs": [
    {
     "data": {
      "text/plain": [
       "array([[  0, 826],\n",
       "       [  0, 813]], dtype=int64)"
      ]
     },
     "execution_count": 76,
     "metadata": {},
     "output_type": "execute_result"
    }
   ],
   "source": [
    "metrics.confusion_matrix(y_test, y_pred)"
   ]
  },
  {
   "cell_type": "code",
   "execution_count": 77,
   "metadata": {},
   "outputs": [],
   "source": [
    "cm1=metrics.confusion_matrix(y_test, y_pred)"
   ]
  },
  {
   "cell_type": "code",
   "execution_count": 78,
   "metadata": {},
   "outputs": [],
   "source": [
    "cm2=cm1/cm1.sum()"
   ]
  },
  {
   "cell_type": "code",
   "execution_count": 79,
   "metadata": {},
   "outputs": [
    {
     "data": {
      "text/plain": [
       "array([[0.        , 0.50396583],\n",
       "       [0.        , 0.49603417]])"
      ]
     },
     "execution_count": 79,
     "metadata": {},
     "output_type": "execute_result"
    }
   ],
   "source": [
    "cm2"
   ]
  },
  {
   "cell_type": "code",
   "execution_count": 80,
   "metadata": {},
   "outputs": [
    {
     "data": {
      "image/png": "[encoded data removed]",
      "text/plain": [
       "<Figure size 432x288 with 1 Axes>"
      ]
     },
     "metadata": {
      "needs_background": "light"
     },
     "output_type": "display_data"
    },
    {
     "data": {
      "image/png": "[encoded data removed]",
      "text/plain": [
       "<Figure size 432x288 with 1 Axes>"
      ]
     },
     "metadata": {
      "needs_background": "light"
     },
     "output_type": "display_data"
    },
    {
     "data": {
      "image/png": "[encoded data removed]",
      "text/plain": [
       "<Figure size 432x288 with 1 Axes>"
      ]
     },
     "metadata": {
      "needs_background": "light"
     },
     "output_type": "display_data"
    },
    {
     "data": {
      "image/png": "[encoded data removed]",
      "text/plain": [
       "<Figure size 432x288 with 1 Axes>"
      ]
     },
     "metadata": {
      "needs_background": "light"
     },
     "output_type": "display_data"
    },
    {
     "data": {
      "image/png": "[encoded data removed]",
      "text/plain": [
       "<Figure size 432x288 with 1 Axes>"
      ]
     },
     "metadata": {
      "needs_background": "light"
     },
     "output_type": "display_data"
    },
    {
     "data": {
      "image/png": "[encoded data removed]",
      "text/plain": [
       "<Figure size 432x288 with 1 Axes>"
      ]
     },
     "metadata": {
      "needs_background": "light"
     },
     "output_type": "display_data"
    }
   ],
   "source": [
    "for col in range(0,X.shape[1]):\n",
    "    plt.figure()\n",
    "    plt.title(\"X[\"+str(col) + \"] vs DiskFailure\")\n",
    "    plt.scatter(X_train[:,col], y_train)"
   ]
  },
  {
   "cell_type": "markdown",
   "metadata": {},
   "source": [
    "brak liniowej korelacji"
   ]
  },
  {
   "cell_type": "code",
   "execution_count": null,
   "metadata": {},
   "outputs": [],
   "source": []
  },
  {
   "cell_type": "code",
   "execution_count": 37,
   "metadata": {},
   "outputs": [],
   "source": [
    "#from sklearn.feature_selection import SelectKBest, f_classif\n",
    "#select_k_best_classifier = SelectKBest(score_func=f_classif, k=5).fit_transform(features_dataframe, targeted_class)"
   ]
  },
  {
   "cell_type": "code",
   "execution_count": 38,
   "metadata": {},
   "outputs": [],
   "source": [
    "# Xpd = pd.DataFrame(X, columns = ['CapacityBytes','SMART_1_Raw','SMART_2_Raw','SMART_3_Raw','SMART_4_Raw','SMART_5_Raw'])"
   ]
  },
  {
   "cell_type": "code",
   "execution_count": null,
   "metadata": {},
   "outputs": [],
   "source": []
  },
  {
   "cell_type": "code",
   "execution_count": 81,
   "metadata": {},
   "outputs": [],
   "source": [
    "knn_clf = neighbors.KNeighborsClassifier(n_neighbors=5)"
   ]
  },
  {
   "cell_type": "code",
   "execution_count": 82,
   "metadata": {},
   "outputs": [
    {
     "data": {
      "text/plain": [
       "KNeighborsClassifier()"
      ]
     },
     "execution_count": 82,
     "metadata": {},
     "output_type": "execute_result"
    }
   ],
   "source": [
    "knn_clf.fit(X_train, y_train)"
   ]
  },
  {
   "cell_type": "code",
   "execution_count": 83,
   "metadata": {},
   "outputs": [],
   "source": [
    "y_pred = knn_clf.predict(X_test)"
   ]
  },
  {
   "cell_type": "code",
   "execution_count": 84,
   "metadata": {},
   "outputs": [
    {
     "name": "stdout",
     "output_type": "stream",
     "text": [
      "Accuracy: 0.6741915802318487\n",
      "Precision: 0.6654804270462633\n",
      "Recall: 0.6900369003690037\n",
      "F1-score: 0.677536231884058\n"
     ]
    },
    {
     "data": {
      "image/png": "[encoded data removed]",
      "text/plain": [
       "<Figure size 720x504 with 2 Axes>"
      ]
     },
     "metadata": {
      "needs_background": "light"
     },
     "output_type": "display_data"
    }
   ],
   "source": [
    "modelResults(y_test,y_pred)\n",
    "confusionMatrix(y_test,y_pred)"
   ]
  },
  {
   "cell_type": "code",
   "execution_count": 85,
   "metadata": {},
   "outputs": [],
   "source": [
    "tree_clf = tree.DecisionTreeClassifier(random_state=0) #random_state - w celu zapewnienia reprodukowalności wyników"
   ]
  },
  {
   "cell_type": "code",
   "execution_count": 86,
   "metadata": {},
   "outputs": [
    {
     "data": {
      "text/plain": [
       "DecisionTreeClassifier(random_state=0)"
      ]
     },
     "execution_count": 86,
     "metadata": {},
     "output_type": "execute_result"
    }
   ],
   "source": [
    "tree_clf.fit(X_train, y_train)"
   ]
  },
  {
   "cell_type": "code",
   "execution_count": 87,
   "metadata": {},
   "outputs": [
    {
     "data": {
      "text/plain": [
       "0.6723611958511287"
      ]
     },
     "execution_count": 87,
     "metadata": {},
     "output_type": "execute_result"
    }
   ],
   "source": [
    "tree_clf.score(X_test, y_test) #score -> accurancy"
   ]
  },
  {
   "cell_type": "code",
   "execution_count": 88,
   "metadata": {},
   "outputs": [
    {
     "name": "stdout",
     "output_type": "stream",
     "text": [
      "Accuracy: 0.6723611958511287\n",
      "Precision: 0.658256880733945\n",
      "Recall: 0.7060270602706027\n",
      "F1-score: 0.6813056379821959\n"
     ]
    },
    {
     "data": {
      "image/png": "[encoded data removed]",
      "text/plain": [
       "<Figure size 720x504 with 2 Axes>"
      ]
     },
     "metadata": {
      "needs_background": "light"
     },
     "output_type": "display_data"
    }
   ],
   "source": [
    "y_pred = tree_clf.predict(X_test)\n",
    "modelResults(y_test,y_pred)\n",
    "\n",
    "confusionMatrix(y_test,y_pred)"
   ]
  },
  {
   "cell_type": "code",
   "execution_count": null,
   "metadata": {},
   "outputs": [],
   "source": []
  },
  {
   "cell_type": "code",
   "execution_count": 89,
   "metadata": {},
   "outputs": [],
   "source": [
    "forest_clf = ensemble.RandomForestClassifier(random_state=0)"
   ]
  },
  {
   "cell_type": "code",
   "execution_count": 90,
   "metadata": {},
   "outputs": [
    {
     "data": {
      "text/plain": [
       "RandomForestClassifier(random_state=0)"
      ]
     },
     "execution_count": 90,
     "metadata": {},
     "output_type": "execute_result"
    }
   ],
   "source": [
    "forest_clf.fit(X_train, y_train)"
   ]
  },
  {
   "cell_type": "code",
   "execution_count": 91,
   "metadata": {},
   "outputs": [],
   "source": [
    "y_pred = forest_clf.predict(X_test)\n"
   ]
  },
  {
   "cell_type": "code",
   "execution_count": 92,
   "metadata": {},
   "outputs": [
    {
     "name": "stdout",
     "output_type": "stream",
     "text": [
      "Accuracy: 0.699816961561928\n",
      "Precision: 0.6680628272251309\n",
      "Recall: 0.7847478474784748\n",
      "F1-score: 0.7217194570135747\n"
     ]
    },
    {
     "data": {
      "image/png": "[encoded data removed]",
      "text/plain": [
       "<Figure size 720x504 with 2 Axes>"
      ]
     },
     "metadata": {
      "needs_background": "light"
     },
     "output_type": "display_data"
    }
   ],
   "source": [
    "modelResults(y_test,y_pred)\n",
    "confusionMatrix(y_test,y_pred)"
   ]
  },
  {
   "cell_type": "markdown",
   "metadata": {},
   "source": [
    "Zdecydowanie wyższą wartość accuracy, recall i F1, \n",
    "nieznacze obniżenie wartości precision."
   ]
  },
  {
   "cell_type": "code",
   "execution_count": null,
   "metadata": {},
   "outputs": [],
   "source": []
  },
  {
   "cell_type": "code",
   "execution_count": 93,
   "metadata": {},
   "outputs": [],
   "source": [
    "nn_clf = neural_network.MLPClassifier(max_iter=20000, \n",
    "                                      hidden_layer_sizes=(200,128,64,32,16,8),\n",
    "                                      epsilon=1e-6, \n",
    "                                      learning_rate_init=0.001, \n",
    "                                      batch_size=48,\n",
    "                                      learning_rate='adaptive',\n",
    "                                      random_state=0,\n",
    "                                      alpha=0.07)"
   ]
  },
  {
   "cell_type": "code",
   "execution_count": 94,
   "metadata": {},
   "outputs": [
    {
     "data": {
      "text/plain": [
       "MLPClassifier(alpha=0.07, batch_size=48, epsilon=1e-06,\n",
       "              hidden_layer_sizes=(200, 128, 64, 32, 16, 8),\n",
       "              learning_rate='adaptive', max_iter=20000, random_state=0)"
      ]
     },
     "execution_count": 94,
     "metadata": {},
     "output_type": "execute_result"
    }
   ],
   "source": [
    "min_max_scaler = preprocessing.MinMaxScaler()\n",
    "\n",
    "nn_clf.fit(min_max_scaler.fit_transform(X_train), y_train)"
   ]
  },
  {
   "cell_type": "code",
   "execution_count": 95,
   "metadata": {},
   "outputs": [
    {
     "name": "stdout",
     "output_type": "stream",
     "text": [
      "Accuracy: 0.7079646017699115\n",
      "Precision: 0.678814892501311\n",
      "Recall: 0.7898108602806589\n",
      "F1-score: 0.7301184433164128\n",
      "Accuracy: 0.6687004270896888\n",
      "Precision: 0.9192546583850931\n",
      "Recall: 0.3640836408364084\n",
      "F1-score: 0.5215859030837005\n"
     ]
    },
    {
     "data": {
      "image/png": "[encoded data removed]",
      "text/plain": [
       "<Figure size 720x504 with 2 Axes>"
      ]
     },
     "metadata": {
      "needs_background": "light"
     },
     "output_type": "display_data"
    }
   ],
   "source": [
    "y_pred = nn_clf.predict(min_max_scaler.fit_transform(X_train))\n",
    "modelResults(y_train,y_pred)\n",
    "y_pred = nn_clf.predict(min_max_scaler.fit_transform(X_test))\n",
    "modelResults(y_test,y_pred)\n",
    "#metrics.confusion_matrix(y_test,y_pred)\n",
    "confusionMatrix(y_test,y_pred)\n",
    "#pd.options.display"
   ]
  },
  {
   "cell_type": "code",
   "execution_count": null,
   "metadata": {},
   "outputs": [],
   "source": []
  },
  {
   "cell_type": "code",
   "execution_count": null,
   "metadata": {},
   "outputs": [],
   "source": []
  }
 ],
 "metadata": {
  "kernelspec": {
   "display_name": "Python 3",
   "language": "python",
   "name": "python3"
  },
  "language_info": {
   "codemirror_mode": {
    "name": "ipython",
    "version": 3
   },
   "file_extension": ".py",
   "mimetype": "text/x-python",
   "name": "python",
   "nbconvert_exporter": "python",
   "pygments_lexer": "ipython3",
   "version": "3.7.10"
  }
 },
 "nbformat": 4,
 "nbformat_minor": 4
}
